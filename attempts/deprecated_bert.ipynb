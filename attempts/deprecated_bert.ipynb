{
 "cells": [
  {
   "cell_type": "markdown",
   "metadata": {},
   "source": [
    "# DEPRECATED"
   ]
  },
  {
   "cell_type": "code",
   "execution_count": 1,
   "metadata": {},
   "outputs": [],
   "source": [
    "import pandas as pd\n",
    "from sklearn.model_selection import train_test_split\n",
    "from transformers import BertTokenizer, BertConfig, BertForMaskedLM, AdamW, get_linear_schedule_with_warmup\n",
    "from torch.utils.data import DataLoader, TensorDataset\n",
    "import torch\n",
    "import mlflow\n",
    "from nltk.translate.bleu_score import sentence_bleu\n",
    "from datasets import Dataset, load_from_disk\n",
    "from tqdm import tqdm\n",
    "import os"
   ]
  },
  {
   "cell_type": "code",
   "execution_count": null,
   "metadata": {},
   "outputs": [],
   "source": [
    "data_file = \"./en-ja.bicleaner05.txt\"\n",
    "data_modified = \"./en-ja.txt\""
   ]
  },
  {
   "cell_type": "code",
   "execution_count": null,
   "metadata": {},
   "outputs": [],
   "source": [
    "with open(data_file, 'r', encoding='utf-8') as f_in:\n",
    "    with open(data_modified, 'w', encoding='utf-8') as f_out:\n",
    "        for line in f_in:\n",
    "            columns = line.strip().split('\\t')\n",
    "            english_text = columns[-2]\n",
    "            japanese_text = columns[-1]\n",
    "            f_out.write(f\"{english_text}\\t{japanese_text}\\n\")"
   ]
  },
  {
   "cell_type": "code",
   "execution_count": null,
   "metadata": {},
   "outputs": [],
   "source": [
    "file_path = \"./en-ja-test.txt\"\n",
    "\n",
    "with open(data_modified, 'r', encoding='utf-8') as file:\n",
    "    lines = file.readlines()[:50]\n",
    "with open(file_path, 'w', encoding='utf-8') as file_d:\n",
    "    lines_d = file_d.writelines(lines)\n",
    "\n",
    "pairs = [line.strip().split('\\t') for line in lines]"
   ]
  },
  {
   "cell_type": "code",
   "execution_count": 2,
   "metadata": {},
   "outputs": [],
   "source": [
    "data = load_from_disk(\"./traintmp\")"
   ]
  },
  {
   "cell_type": "code",
   "execution_count": 3,
   "metadata": {},
   "outputs": [],
   "source": [
    "# df = pd.DataFrame(pairs, columns=['english_sentence', 'japanese_sentence'])\n",
    "df = data.to_pandas()\n",
    "df.drop([\"text\"], axis=1, inplace=True)\n",
    "df.dropna(inplace=True)\n",
    "new_col = {\"en\": 'english_sentence', \"jp\": 'japanese_sentence'}\n",
    "df = df.rename(columns=new_col)\n",
    "\n",
    "train_df, val_df = train_test_split(df, test_size=0.3, random_state=0)\n",
    "\n",
    "# train_input_ids, train_attention_masks = tokenize_sentences(train_df['japanese_sentence'])\n",
    "# val_input_ids, val_attention_masks = tokenize_sentences(val_df['japanese_sentence'])\n",
    "\n",
    "# train_labels, _ = tokenize_sentences(train_df['english_sentence'])\n",
    "# val_labels, _ = tokenize_sentences(val_df['english_sentence'])\n",
    "\n",
    "batch_size = 8\n",
    "# train_dataset = TensorDataset(train_input_ids, train_attention_masks, train_labels)\n",
    "# train_dataloader = DataLoader(train_dataset, batch_size=batch_size, shuffle=True)\n",
    "# val_dataset = TensorDataset(val_input_ids, val_attention_masks, val_labels)\n",
    "# val_dataloader = DataLoader(val_dataset, batch_size=batch_size)"
   ]
  },
  {
   "cell_type": "code",
   "execution_count": 6,
   "metadata": {},
   "outputs": [],
   "source": [
    "# torch.save(train_dataloader, \"./BERT/train_dataloader\")\n",
    "# torch.save(val_dataloader, \"./BERT/val_dataloader\")"
   ]
  },
  {
   "cell_type": "code",
   "execution_count": 4,
   "metadata": {},
   "outputs": [],
   "source": [
    "train_dataloader = torch.load(\"./BERT/train_dataloader\")\n",
    "val_dataloader = torch.load(\"./BERT/val_dataloader\")"
   ]
  },
  {
   "cell_type": "code",
   "execution_count": 5,
   "metadata": {},
   "outputs": [],
   "source": [
    "tokenizer = BertTokenizer.from_pretrained('bert-base-multilingual-cased', padding_side= \"left\")\n",
    "\n",
    "def tokenize_sentences(sentences):\n",
    "    input_ids = []\n",
    "    attention_masks = []\n",
    "    for sent in sentences:\n",
    "        encoded_dict = tokenizer.encode_plus(\n",
    "                            sent,                      \n",
    "                            add_special_tokens = True, \n",
    "                            max_length = 128,         \n",
    "                            pad_to_max_length = True,\n",
    "                            return_attention_mask = True,  \n",
    "                            return_tensors = 'pt',  \n",
    "                       )\n",
    "        input_ids.append(encoded_dict['input_ids'])\n",
    "        attention_masks.append(encoded_dict['attention_mask'])\n",
    "    \n",
    "    return torch.cat(input_ids, dim=0), torch.cat(attention_masks, dim=0)"
   ]
  },
  {
   "cell_type": "code",
   "execution_count": 12,
   "metadata": {},
   "outputs": [
    {
     "name": "stderr",
     "output_type": "stream",
     "text": [
      "c:\\Users\\Victo\\AppData\\Local\\Programs\\Python\\Python312\\Lib\\site-packages\\transformers\\optimization.py:457: FutureWarning: This implementation of AdamW is deprecated and will be removed in a future version. Use the PyTorch implementation torch.optim.AdamW instead, or set `no_deprecation_warning=True` to disable this warning\n",
      "  warnings.warn(\n"
     ]
    },
    {
     "name": "stdout",
     "output_type": "stream",
     "text": [
      "Recovering from previous checkpoint-----\n",
      "Starting Epoch: 2 / 20, Total Steps: 882360\n",
      "Epoch 2\n"
     ]
    },
    {
     "name": "stderr",
     "output_type": "stream",
     "text": [
      "  0%|          | 0/44118 [00:00<?, ?it/s]"
     ]
    },
    {
     "name": "stdout",
     "output_type": "stream",
     "text": [
      " |   loss: 11.759979248046875  [0/44118]\n"
     ]
    },
    {
     "name": "stderr",
     "output_type": "stream",
     "text": [
      "  2%|▏         | 934/44118 [15:05<7:35:10,  1.56it/s]"
     ]
    }
   ],
   "source": [
    "config = BertConfig.from_pretrained('bert-base-multilingual-cased')\n",
    "model = BertForMaskedLM(config=config)\n",
    "device = torch.device('cuda' if torch.cuda.is_available() else 'cpu')\n",
    "model.to(device)\n",
    "\n",
    "optimizer = AdamW(model.parameters(), lr=2e-5)\n",
    "total_steps = len(train_dataloader) * 20\n",
    "scheduler = get_linear_schedule_with_warmup(optimizer, num_warmup_steps=0, num_training_steps=total_steps)\n",
    "\n",
    "def save_checkpoint(state, filename, model, model_filename):\n",
    "    torch.save(state, filename)\n",
    "    torch.save(model, model_filename)\n",
    "\n",
    "def load_checkpoint(filename, model_filename, model, optimizer, scheduler):\n",
    "    load = torch.load(filename)\n",
    "    model = torch.load(model_filename)\n",
    "    optimizer.load_state_dict(load['optimizer'])\n",
    "    scheduler.load_state_dict(load['scheduler'])\n",
    "    start_epoch = load['epoch']\n",
    "    total_steps = load['total_steps']\n",
    "    return start_epoch, total_steps, model, optimizer, scheduler\n",
    "\n",
    "start_epoch = 0\n",
    "checkpoint_file = './BERT/checkpoint.pt'\n",
    "model_file = './BERT/checkpoint_model.pt'\n",
    "if os.path.isfile(checkpoint_file):\n",
    "    print('Recovering from previous checkpoint-----')\n",
    "    start_epoch, total_steps, model, optimizer, scheduler = load_checkpoint(checkpoint_file, model_file, model, optimizer, scheduler)\n",
    "    print('Starting Epoch: {}, Total Steps: {}'.format(start_epoch, total_steps))\n",
    "else:\n",
    "    print('No checkpoint file found')\n",
    "\n",
    "mlflow.set_tracking_uri(\"./BERT\")\n",
    "mlflow.set_experiment('BERT Japanese-English Translation V5')\n",
    "\n",
    "if os.path.exists(\"./last_run.txt\"):\n",
    "    with open(\"./last_run.txt\", \"r\") as f:\n",
    "        id = f.readline().strip()\n",
    "        mlflow.start_run(id)\n",
    "else:\n",
    "    mlflow.start_run()\n",
    "with open(\"./last_run.txt\", \"w\") as f:\n",
    "    f.write(str(mlflow.active_run().info.run_id))\n",
    "\n",
    "num_epochs = 20\n",
    "\n",
    "for epoch in range(start_epoch, num_epochs):\n",
    "    model.train()\n",
    "    total_loss = 0\n",
    "    size = len(train_dataloader)\n",
    "    print(\"Epoch {}\".format(epoch))\n",
    "    for step, batch in enumerate(tqdm(train_dataloader)):\n",
    "        batch = tuple(t.to(device) for t in batch)\n",
    "        input_ids, attention_masks, labels = batch\n",
    "        \n",
    "        optimizer.zero_grad()\n",
    "        outputs = model(input_ids=input_ids, attention_mask=attention_masks, labels=labels)\n",
    "        loss = outputs.loss\n",
    "        loss.backward()\n",
    "        optimizer.step()\n",
    "        scheduler.step()\n",
    "\n",
    "        total_loss += loss.item()\n",
    "        if step % 10000 == 0:\n",
    "            loss, current = loss.item(), step * batch_size\n",
    "            tqdm.write(f\" |   loss: {loss}  [{current}/{size}]\")\n",
    "            save_checkpoint({\n",
    "            'optimizer': optimizer.state_dict(),\n",
    "            'scheduler': scheduler.state_dict(),\n",
    "            'epoch': epoch,\n",
    "            'total_steps': total_steps},\n",
    "            checkpoint_file,\n",
    "            model,\n",
    "            model_file)\n",
    "    \n",
    "    avg_train_loss = total_loss / len(train_dataloader)\n",
    "    print(f'Epoch {epoch+1}/{num_epochs} - Average training loss: {avg_train_loss}')\n",
    "\n",
    "    mlflow.log_metric('train_loss', avg_train_loss, step=epoch + 1)\n",
    "\n",
    "\n",
    "def evaluate_model(model, dataloader):\n",
    "    model.eval()\n",
    "    total_bleu_score = 0\n",
    "    with torch.no_grad():\n",
    "        for batch in dataloader:\n",
    "            batch = tuple(t.to(device) for t in batch)\n",
    "            input_ids, attention_masks, labels = batch\n",
    "            outputs = model.generate(input_ids=input_ids, attention_mask=attention_masks, max_length= 129)\n",
    "            predicted_sentences = [tokenizer.decode(output, skip_special_tokens=True) for output in outputs]\n",
    "            reference_sentences = [tokenizer.decode(label, skip_special_tokens=True) for label in labels]\n",
    "            for predicted, reference in zip(predicted_sentences, reference_sentences):\n",
    "                bleu_score = sentence_bleu([reference.split()], predicted.split())\n",
    "                total_bleu_score += bleu_score\n",
    "    \n",
    "    avg_bleu_score = total_bleu_score / len(dataloader.dataset)\n",
    "    return avg_bleu_score\n",
    "\n",
    "avg_val_bleu_score = evaluate_model(model, val_dataloader)\n",
    "print(f'Average BLEU score on validation data: {avg_val_bleu_score}')\n",
    "\n",
    "model_save_path = \"./BERT/bert_translation_model\"\n",
    "torch.save(model.state_dict(), model_save_path)\n",
    "mlflow.pytorch.log_model(model, artifact_path='models')\n",
    "mlflow.log_metric('val_bleu_score', avg_val_bleu_score)\n",
    "mlflow.end_run()\n"
   ]
  }
 ],
 "metadata": {
  "kernelspec": {
   "display_name": "Python 3",
   "language": "python",
   "name": "python3"
  },
  "language_info": {
   "codemirror_mode": {
    "name": "ipython",
    "version": 3
   },
   "file_extension": ".py",
   "mimetype": "text/x-python",
   "name": "python",
   "nbconvert_exporter": "python",
   "pygments_lexer": "ipython3",
   "version": "3.10.12"
  }
 },
 "nbformat": 4,
 "nbformat_minor": 2
}
