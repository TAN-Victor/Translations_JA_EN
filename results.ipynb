{
 "cells": [
  {
   "cell_type": "markdown",
   "metadata": {},
   "source": [
    "# Enhancing Machine Translation of News: Japanese to English Translation"
   ]
  },
  {
   "cell_type": "markdown",
   "metadata": {},
   "source": [
    "## If dataframe already built\n",
    "\n",
    "Postprocessing done for individual sentences, see Helsinki_single.pdf"
   ]
  },
  {
   "cell_type": "code",
   "execution_count": 6,
   "metadata": {},
   "outputs": [],
   "source": [
    "import pandas as pd\n",
    "import evaluate\n",
    "import torch\n",
    "import logging\n",
    "import tensorflow as tf\n",
    "\n",
    "\n",
    "\n",
    "#pd.set_option('display.max_colwidth', 1000)\n",
    "\n",
    "cache_dir = './.cache'                                # Because I lacked space in my main disk\n",
    "test = pd.read_csv(\"./data.csv\", header=0)\n",
    "\n",
    "\n",
    "tf.get_logger().setLevel(logging.ERROR)\n",
    "logging.getLogger('tensorflow').setLevel(logging.ERROR)\n",
    "\n"
   ]
  },
  {
   "cell_type": "code",
   "execution_count": 7,
   "metadata": {},
   "outputs": [],
   "source": [
    "def calculate_bleu_score(predictions, references, max_order=4):\n",
    "    \"\"\"\n",
    "    Compute BLEU score for predictions and references\n",
    "\n",
    "    Parameters:\n",
    "        predictions: List of predicted translations\n",
    "        references: List of reference translations\n",
    "        max_order: Maximum order of n-grams to consider, default is 4\n",
    "\n",
    "    Returns:\n",
    "        BLEU score for the predictions and references\n",
    "    \"\"\"\n",
    "    bleu = evaluate.load(\"bleu\", cache_dir=cache_dir)\n",
    "    print(\"BLEU Score: \", bleu.compute(predictions=predictions, references=references, max_order=max_order))\n",
    "    del bleu\n",
    "    torch.cuda.empty_cache()\n",
    "\n",
    "def calculate_rouge_score(predictions, references):\n",
    "    \"\"\"\n",
    "    Compute ROUGE score for predictions and references\n",
    "\n",
    "    Parameters:\n",
    "        predictions: List of predicted translations\n",
    "        references: List of reference translations\n",
    "\n",
    "    Returns:\n",
    "        ROUGE score for the predictions and references\n",
    "    \"\"\"\n",
    "    rouge = evaluate.load(\"rouge\", cache_dir=cache_dir)\n",
    "    print(\"ROUGE Score: \", rouge.compute(predictions=predictions, references=references))\n",
    "    del rouge\n",
    "    torch.cuda.empty_cache()\n",
    "\n",
    "def calculate_chrf_score(predictions, references):\n",
    "    \"\"\"\n",
    "    Compute chrF score for predictions and references\n",
    "\n",
    "    Parameters:\n",
    "        predictions: List of predicted translations\n",
    "        references: List of reference translations\n",
    "\n",
    "    Returns:\n",
    "        chrF score for the predictions and references\n",
    "    \"\"\"\n",
    "    chrf = evaluate.load(\"chrf\", cache_dir=cache_dir)\n",
    "    print(\"chrF Score: \", chrf.compute(predictions=predictions, references=references))\n",
    "    del chrf\n",
    "    torch.cuda.empty_cache()\n",
    "\n",
    "# def calculate_bleurt_score(predictions, references):\n",
    "#     \"\"\"\n",
    "#     Compute Bleurt score for predictions and references\n",
    "#     Could be used for evaluating translations, but we didn't find the Bleurt scores of WMT23,\n",
    "#     so couldn't compare\n",
    "\n",
    "#     Parameters:\n",
    "#         predictions: List of predicted translations\n",
    "#         references: List of reference translations\n",
    "\n",
    "#     Returns:\n",
    "#         Bleurt score for the predictions and references\n",
    "#     \"\"\"\n",
    "#     bleurt = evaluate.load(\"bleurt\", cache_dir=cache_dir)\n",
    "#     tmp = bleurt.compute(predictions=predictions, references=references)\n",
    "#     print(\"Bleurt Score: \", sum(tmp['scores'])/len(tmp['scores']))\n",
    "#     del bleurt\n",
    "#     torch.cuda.empty_cache()\n",
    "\n",
    "def calculate_comet_score(sources, predictions, references):\n",
    "    \"\"\"\n",
    "    Compute COMET score for predictions and references\n",
    "\n",
    "    Parameters:\n",
    "        sources: List of source translations\n",
    "        predictions: List of predicted translations\n",
    "        references: List of reference translations\n",
    "\n",
    "    Returns:\n",
    "        COMET score for the predictions and references\n",
    "    \"\"\"\n",
    "    comet = evaluate.load(\"comet\", cache_dir=cache_dir)\n",
    "    print(\"COMET Score: \", comet.compute(sources=sources, predictions=predictions, references=references)['mean_score'])\n",
    "    del comet\n",
    "    torch.cuda.empty_cache()"
   ]
  },
  {
   "cell_type": "code",
   "execution_count": 8,
   "metadata": {},
   "outputs": [],
   "source": [
    "def calculate(pred, ref, dataframe):\n",
    "    predlist = dataframe[pred].tolist()\n",
    "    reflist = dataframe[ref].tolist()\n",
    "    calculate_bleu_score(predlist, reflist)\n",
    "    calculate_rouge_score(predlist, reflist)\n",
    "    calculate_chrf_score(predlist, reflist)\n",
    "    calculate_comet_score(dataframe['jp'].tolist(), predlist, reflist)"
   ]
  },
  {
   "cell_type": "code",
   "execution_count": 9,
   "metadata": {},
   "outputs": [
    {
     "name": "stdout",
     "output_type": "stream",
     "text": [
      "BLEU Score:  {'bleu': 0.14586079058462165, 'precisions': [0.48201215240298184, 0.20499866662715932, 0.1080200815499506, 0.060545017007709], 'brevity_penalty': 0.9148303846402471, 'length_ratio': 0.9182596457817399, 'translation_length': 2191007, 'reference_length': 2386043}\n",
      "ROUGE Score:  {'rouge1': 0.4734976076698739, 'rouge2': 0.22614609751264425, 'rougeL': 0.40810550727201805, 'rougeLsum': 0.4081434172624776}\n",
      "chrF Score:  {'score': 41.2073568777114, 'char_order': 6, 'word_order': 0, 'beta': 2}\n"
     ]
    },
    {
     "data": {
      "application/vnd.jupyter.widget-view+json": {
       "model_id": "2075340a5e6142a3b92452d58105cfe6",
       "version_major": 2,
       "version_minor": 0
      },
      "text/plain": [
       "Fetching 5 files:   0%|          | 0/5 [00:00<?, ?it/s]"
      ]
     },
     "metadata": {},
     "output_type": "display_data"
    },
    {
     "name": "stderr",
     "output_type": "stream",
     "text": [
      "INFO:pytorch_lightning.utilities.migration.utils:Lightning automatically upgraded your loaded checkpoint from v1.8.3.post1 to v2.2.2. To apply the upgrade to your files permanently, run `python -m pytorch_lightning.utilities.upgrade_checkpoint ../../.cache/huggingface/hub/models--Unbabel--wmt22-comet-da/snapshots/371e9839ca4e213dde891b066cf3080f75ec7e72/checkpoints/model.ckpt`\n",
      "c:\\Users\\Victo\\AppData\\Local\\Programs\\Python\\Python312\\Lib\\site-packages\\pytorch_lightning\\core\\saving.py:188: Found keys that are not in the model state dict but in the checkpoint: ['encoder.model.embeddings.position_ids']\n"
     ]
    },
    {
     "name": "stdout",
     "output_type": "stream",
     "text": [
      "COMET Score:  0.7523743284170223\n"
     ]
    }
   ],
   "source": [
    "calculate('prediction English Deletion + Japanese Deletion', 'en', test[['en', 'prediction English Deletion + Japanese Deletion', 'jp']])"
   ]
  },
  {
   "cell_type": "code",
   "execution_count": 10,
   "metadata": {},
   "outputs": [
    {
     "name": "stdout",
     "output_type": "stream",
     "text": [
      "BLEU Score:  {'bleu': 0.23152776773729306, 'precisions': [0.5862030564028321, 0.31369866156129833, 0.19142070445916734, 0.12136650491711941], 'brevity_penalty': 0.9056094789904402, 'length_ratio': 0.9097963283544532, 'translation_length': 2191007, 'reference_length': 2408239}\n",
      "ROUGE Score:  {'rouge1': 0.5770739241937017, 'rouge2': 0.3331429586871332, 'rougeL': 0.5140948535860443, 'rougeLsum': 0.5140795066992838}\n",
      "chrF Score:  {'score': 49.45209930396326, 'char_order': 6, 'word_order': 0, 'beta': 2}\n"
     ]
    },
    {
     "data": {
      "application/vnd.jupyter.widget-view+json": {
       "model_id": "65b7027e85e14db58f90a62dfa39572f",
       "version_major": 2,
       "version_minor": 0
      },
      "text/plain": [
       "Fetching 5 files:   0%|          | 0/5 [00:00<?, ?it/s]"
      ]
     },
     "metadata": {},
     "output_type": "display_data"
    },
    {
     "name": "stderr",
     "output_type": "stream",
     "text": [
      "INFO:pytorch_lightning.utilities.migration.utils:Lightning automatically upgraded your loaded checkpoint from v1.8.3.post1 to v2.2.2. To apply the upgrade to your files permanently, run `python -m pytorch_lightning.utilities.upgrade_checkpoint ../../.cache/huggingface/hub/models--Unbabel--wmt22-comet-da/snapshots/371e9839ca4e213dde891b066cf3080f75ec7e72/checkpoints/model.ckpt`\n",
      "c:\\Users\\Victo\\AppData\\Local\\Programs\\Python\\Python312\\Lib\\site-packages\\pytorch_lightning\\core\\saving.py:188: Found keys that are not in the model state dict but in the checkpoint: ['encoder.model.embeddings.position_ids']\n"
     ]
    },
    {
     "name": "stdout",
     "output_type": "stream",
     "text": [
      "COMET Score:  0.7910001221535337\n"
     ]
    }
   ],
   "source": [
    "calculate('prediction English Deletion + Japanese Deletion', 'google_translation', test[['google_translation', 'prediction English Deletion + Japanese Deletion', 'jp']])"
   ]
  },
  {
   "cell_type": "code",
   "execution_count": 11,
   "metadata": {},
   "outputs": [
    {
     "name": "stdout",
     "output_type": "stream",
     "text": [
      "BLEU Score:  {'bleu': 0.14204834677325318, 'precisions': [0.4774083902131296, 0.20079139975771124, 0.10518026077708952, 0.05879114643053754], 'brevity_penalty': 0.9103656276481146, 'length_ratio': 0.9141528463653003, 'translation_length': 2181208, 'reference_length': 2386043}\n",
      "ROUGE Score:  {'rouge1': 0.46796373840770955, 'rouge2': 0.22241075371415892, 'rougeL': 0.4032370404210559, 'rougeLsum': 0.40325738411501777}\n",
      "chrF Score:  {'score': 40.29398965594634, 'char_order': 6, 'word_order': 0, 'beta': 2}\n"
     ]
    },
    {
     "data": {
      "application/vnd.jupyter.widget-view+json": {
       "model_id": "369870d82d4f4125a8ea6099e1e6fe46",
       "version_major": 2,
       "version_minor": 0
      },
      "text/plain": [
       "Fetching 5 files:   0%|          | 0/5 [00:00<?, ?it/s]"
      ]
     },
     "metadata": {},
     "output_type": "display_data"
    },
    {
     "name": "stderr",
     "output_type": "stream",
     "text": [
      "INFO:pytorch_lightning.utilities.migration.utils:Lightning automatically upgraded your loaded checkpoint from v1.8.3.post1 to v2.2.2. To apply the upgrade to your files permanently, run `python -m pytorch_lightning.utilities.upgrade_checkpoint ../../.cache/huggingface/hub/models--Unbabel--wmt22-comet-da/snapshots/371e9839ca4e213dde891b066cf3080f75ec7e72/checkpoints/model.ckpt`\n",
      "c:\\Users\\Victo\\AppData\\Local\\Programs\\Python\\Python312\\Lib\\site-packages\\pytorch_lightning\\core\\saving.py:188: Found keys that are not in the model state dict but in the checkpoint: ['encoder.model.embeddings.position_ids']\n"
     ]
    },
    {
     "name": "stdout",
     "output_type": "stream",
     "text": [
      "COMET Score:  0.7460105917712674\n"
     ]
    }
   ],
   "source": [
    "calculate('prediction MeCab', 'en', test[['en', 'prediction MeCab', 'jp']])"
   ]
  },
  {
   "cell_type": "code",
   "execution_count": 12,
   "metadata": {},
   "outputs": [
    {
     "name": "stdout",
     "output_type": "stream",
     "text": [
      "BLEU Score:  {'bleu': 0.04019690172550246, 'precisions': [0.26394726997074075, 0.059946763343188575, 0.020400841686560138, 0.008087966068931012], 'brevity_penalty': 1.0, 'length_ratio': 1.045207902791358, 'translation_length': 2493911, 'reference_length': 2386043}\n",
      "ROUGE Score:  {'rouge1': 0.24614102782146252, 'rouge2': 0.06751660022976004, 'rougeL': 0.20688100717050617, 'rougeLsum': 0.20688953657200027}\n",
      "chrF Score:  {'score': 22.671869670334274, 'char_order': 6, 'word_order': 0, 'beta': 2}\n"
     ]
    },
    {
     "data": {
      "application/vnd.jupyter.widget-view+json": {
       "model_id": "da5f3ed32bb94b4594b34cbaf4b3f052",
       "version_major": 2,
       "version_minor": 0
      },
      "text/plain": [
       "Fetching 5 files:   0%|          | 0/5 [00:00<?, ?it/s]"
      ]
     },
     "metadata": {},
     "output_type": "display_data"
    },
    {
     "name": "stderr",
     "output_type": "stream",
     "text": [
      "INFO:pytorch_lightning.utilities.migration.utils:Lightning automatically upgraded your loaded checkpoint from v1.8.3.post1 to v2.2.2. To apply the upgrade to your files permanently, run `python -m pytorch_lightning.utilities.upgrade_checkpoint ../../.cache/huggingface/hub/models--Unbabel--wmt22-comet-da/snapshots/371e9839ca4e213dde891b066cf3080f75ec7e72/checkpoints/model.ckpt`\n",
      "c:\\Users\\Victo\\AppData\\Local\\Programs\\Python\\Python312\\Lib\\site-packages\\pytorch_lightning\\core\\saving.py:188: Found keys that are not in the model state dict but in the checkpoint: ['encoder.model.embeddings.position_ids']\n"
     ]
    },
    {
     "name": "stdout",
     "output_type": "stream",
     "text": [
      "COMET Score:  0.5191643061788593\n"
     ]
    }
   ],
   "source": [
    "calculate('prediction KyTea', 'en', test[['en', 'prediction KyTea', 'jp']])"
   ]
  },
  {
   "cell_type": "code",
   "execution_count": 13,
   "metadata": {},
   "outputs": [
    {
     "name": "stdout",
     "output_type": "stream",
     "text": [
      "BLEU Score:  {'bleu': 0.1421073405503944, 'precisions': [0.47759661442845114, 0.20084755807586754, 0.1051730217095653, 0.058708298705924256], 'brevity_penalty': 0.9109270557074493, 'length_ratio': 0.9146683441999998, 'translation_length': 2182438, 'reference_length': 2386043}\n",
      "ROUGE Score:  {'rouge1': 0.4679353191547481, 'rouge2': 0.2223107373180696, 'rougeL': 0.4030778823275719, 'rougeLsum': 0.403097589105214}\n",
      "chrF Score:  {'score': 40.31739191434267, 'char_order': 6, 'word_order': 0, 'beta': 2}\n"
     ]
    },
    {
     "data": {
      "application/vnd.jupyter.widget-view+json": {
       "model_id": "17c86799a39a45ec89c963ce5ba32e1f",
       "version_major": 2,
       "version_minor": 0
      },
      "text/plain": [
       "Fetching 5 files:   0%|          | 0/5 [00:00<?, ?it/s]"
      ]
     },
     "metadata": {},
     "output_type": "display_data"
    },
    {
     "name": "stderr",
     "output_type": "stream",
     "text": [
      "INFO:pytorch_lightning.utilities.migration.utils:Lightning automatically upgraded your loaded checkpoint from v1.8.3.post1 to v2.2.2. To apply the upgrade to your files permanently, run `python -m pytorch_lightning.utilities.upgrade_checkpoint ../../.cache/huggingface/hub/models--Unbabel--wmt22-comet-da/snapshots/371e9839ca4e213dde891b066cf3080f75ec7e72/checkpoints/model.ckpt`\n",
      "c:\\Users\\Victo\\AppData\\Local\\Programs\\Python\\Python312\\Lib\\site-packages\\pytorch_lightning\\core\\saving.py:188: Found keys that are not in the model state dict but in the checkpoint: ['encoder.model.embeddings.position_ids']\n"
     ]
    },
    {
     "name": "stdout",
     "output_type": "stream",
     "text": [
      "COMET Score:  0.7459628520108207\n"
     ]
    }
   ],
   "source": [
    "calculate('prediction spaCy', 'en', test[['en', 'prediction spaCy', 'jp']])"
   ]
  }
 ],
 "metadata": {
  "kernelspec": {
   "display_name": "Python 3",
   "language": "python",
   "name": "python3"
  },
  "language_info": {
   "codemirror_mode": {
    "name": "ipython",
    "version": 3
   },
   "file_extension": ".py",
   "mimetype": "text/x-python",
   "name": "python",
   "nbconvert_exporter": "python",
   "pygments_lexer": "ipython3",
   "version": "3.10.12"
  }
 },
 "nbformat": 4,
 "nbformat_minor": 2
}
